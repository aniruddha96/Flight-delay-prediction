{
 "cells": [
  {
   "cell_type": "code",
   "execution_count": 1,
   "metadata": {},
   "outputs": [
    {
     "name": "stderr",
     "output_type": "stream",
     "text": [
      "C:\\Users\\M1041841\\AppData\\Local\\Continuum\\anaconda3\\lib\\site-packages\\h5py\\__init__.py:36: FutureWarning: Conversion of the second argument of issubdtype from `float` to `np.floating` is deprecated. In future, it will be treated as `np.float64 == np.dtype(float).type`.\n",
      "  from ._conv import register_converters as _register_converters\n",
      "Using TensorFlow backend.\n"
     ]
    },
    {
     "name": "stdout",
     "output_type": "stream",
     "text": [
      "Wall time: 2min 25s\n"
     ]
    }
   ],
   "source": [
    "%%time\n",
    "import datetime, warnings, scipy \n",
    "import pandas as pd\n",
    "import numpy as np\n",
    "import keras\n",
    "from keras.models import Sequential\n",
    "from keras.layers import Dense, Activation, Dropout\n",
    "from sklearn.metrics import accuracy_score\n",
    "from sklearn.metrics import confusion_matrix\n",
    "from sklearn import preprocessing\n",
    "from sklearn.ensemble import RandomForestClassifier\n",
    "le = preprocessing.LabelEncoder()\n",
    "data= pd.read_csv('final2.csv')"
   ]
  },
  {
   "cell_type": "code",
   "execution_count": 4,
   "metadata": {},
   "outputs": [
    {
     "name": "stdout",
     "output_type": "stream",
     "text": [
      "Wall time: 2min 38s\n"
     ]
    }
   ],
   "source": [
    "%%time\n",
    "le.fit(data['ORIGIN_AIRPORT'])\n",
    "data['ORIGIN_AIRPORT']=le.transform(data['ORIGIN_AIRPORT'])\n",
    "data['DESTINATION_AIRPORT']=le.transform(data['DESTINATION_AIRPORT'])\n",
    "\n",
    "le.fit(data['AIRLINE'])\n",
    "data['AIRLINE']=le.transform(data['AIRLINE'])\n",
    "data.to_csv('final2.csv')\n",
    "#data=pd.concat([data,pd.get_dummies(data['ORIGIN_AIRPORT'])])\n"
   ]
  },
  {
   "cell_type": "code",
   "execution_count": null,
   "metadata": {},
   "outputs": [
    {
     "name": "stderr",
     "output_type": "stream",
     "text": [
      "C:\\Users\\M1041841\\AppData\\Local\\Continuum\\anaconda3\\lib\\site-packages\\pandas\\core\\indexes\\api.py:87: RuntimeWarning: '<' not supported between instances of 'str' and 'int', sort order is undefined for incomparable objects\n",
      "  result = result.union(other)\n"
     ]
    }
   ],
   "source": [
    "origin_1_hot=pd.get_dummies(data['ORIGIN_AIRPORT'])\n",
    "data=pd.concat([data,origin_1_hot])"
   ]
  },
  {
   "cell_type": "code",
   "execution_count": null,
   "metadata": {},
   "outputs": [],
   "source": [
    "data=pd.concat([data,pd.get_dummies(data['DESTINATION_AIRPORT'])])\n",
    "data=pd.concat([data,pd.get_dummies(data['AIRLINE'])])"
   ]
  },
  {
   "cell_type": "code",
   "execution_count": 2,
   "metadata": {},
   "outputs": [
    {
     "name": "stderr",
     "output_type": "stream",
     "text": [
      "C:\\Users\\M1041841\\AppData\\Local\\Continuum\\anaconda3\\lib\\site-packages\\ipykernel_launcher.py:2: SettingWithCopyWarning: \n",
      "A value is trying to be set on a copy of a slice from a DataFrame.\n",
      "Try using .loc[row_indexer,col_indexer] = value instead\n",
      "\n",
      "See the caveats in the documentation: http://pandas.pydata.org/pandas-docs/stable/indexing.html#indexing-view-versus-copy\n",
      "  \n",
      "C:\\Users\\M1041841\\AppData\\Local\\Continuum\\anaconda3\\lib\\site-packages\\pandas\\core\\frame.py:2554: SettingWithCopyWarning: \n",
      "A value is trying to be set on a copy of a slice from a DataFrame\n",
      "\n",
      "See the caveats in the documentation: http://pandas.pydata.org/pandas-docs/stable/indexing.html#indexing-view-versus-copy\n",
      "  self._where(-key, value, inplace=True)\n",
      "C:\\Users\\M1041841\\AppData\\Local\\Continuum\\anaconda3\\lib\\site-packages\\ipykernel_launcher.py:3: SettingWithCopyWarning: \n",
      "A value is trying to be set on a copy of a slice from a DataFrame.\n",
      "Try using .loc[row_indexer,col_indexer] = value instead\n",
      "\n",
      "See the caveats in the documentation: http://pandas.pydata.org/pandas-docs/stable/indexing.html#indexing-view-versus-copy\n",
      "  This is separate from the ipykernel package so we can avoid doing imports until\n"
     ]
    }
   ],
   "source": [
    "Y=data[['tot_d']]\n",
    "Y[Y <= 0] = 0\n",
    "Y[Y > 0] = 1\n",
    "#final.drop(['tot_d'])\n",
    "data['is_delayed']=Y"
   ]
  },
  {
   "cell_type": "code",
   "execution_count": 13,
   "metadata": {},
   "outputs": [],
   "source": [
    "xtrain=data.head(5000000)\n",
    "alldelayed=xtrain[xtrain['is_delayed']==1]\n",
    "ndelays=xtrain[xtrain['is_delayed']==0]\n",
    "xtrain=pd.concat([alldelayed,ndelays.sample(frac=0.5)]).sample(frac=1)\n",
    "\n",
    "ytrain=xtrain[['is_delayed']]\n",
    "xtrain=xtrain.drop(['is_delayed','tot_d','Unnamed: 0', 'Unnamed: 0.1'],axis=1)\n",
    "\n",
    "xtest=data.tail(810750)\n",
    "ytest=xtest[['is_delayed']]\n",
    "xtest=xtest.drop(['is_delayed','tot_d','Unnamed: 0', 'Unnamed: 0.1'],axis=1)"
   ]
  },
  {
   "cell_type": "code",
   "execution_count": 14,
   "metadata": {},
   "outputs": [
    {
     "data": {
      "text/plain": [
       "(2957164, 27)"
      ]
     },
     "execution_count": 14,
     "metadata": {},
     "output_type": "execute_result"
    }
   ],
   "source": [
    "xtrain.shape"
   ]
  },
  {
   "cell_type": "code",
   "execution_count": 17,
   "metadata": {},
   "outputs": [
    {
     "name": "stderr",
     "output_type": "stream",
     "text": [
      "C:\\Users\\M1041841\\AppData\\Local\\Continuum\\anaconda3\\lib\\site-packages\\ipykernel_launcher.py:2: DataConversionWarning: A column-vector y was passed when a 1d array was expected. Please change the shape of y to (n_samples,), for example using ravel().\n",
      "  \n"
     ]
    },
    {
     "name": "stdout",
     "output_type": "stream",
     "text": [
      "building tree 1 of 100building tree 2 of 100\n",
      "\n",
      "building tree 3 of 100building tree 4 of 100\n",
      "\n",
      "building tree 5 of 100\n",
      "building tree 6 of 100\n",
      "building tree 7 of 100\n",
      "building tree 8 of 100\n",
      "building tree 9 of 100\n",
      "building tree 10 of 100\n",
      "building tree 11 of 100\n",
      "building tree 12 of 100\n",
      "building tree 13 of 100\n",
      "building tree 14 of 100\n",
      "building tree 15 of 100\n",
      "building tree 16 of 100\n",
      "building tree 17 of 100\n",
      "building tree 18 of 100\n",
      "building tree 19 of 100\n",
      "building tree 20 of 100\n",
      "building tree 21 of 100\n",
      "building tree 22 of 100\n",
      "building tree 23 of 100\n",
      "building tree 24 of 100\n",
      "building tree 25 of 100\n",
      "building tree 26 of 100\n",
      "building tree 27 of 100\n",
      "building tree 28 of 100\n"
     ]
    },
    {
     "name": "stderr",
     "output_type": "stream",
     "text": [
      "[Parallel(n_jobs=-1)]: Done  24 tasks      | elapsed:  2.7min\n"
     ]
    },
    {
     "name": "stdout",
     "output_type": "stream",
     "text": [
      "building tree 29 of 100\n",
      "building tree 30 of 100\n",
      "building tree 31 of 100\n",
      "building tree 32 of 100\n",
      "building tree 33 of 100\n",
      "building tree 34 of 100\n",
      "building tree 35 of 100\n",
      "building tree 36 of 100\n",
      "building tree 37 of 100\n",
      "building tree 38 of 100\n",
      "building tree 39 of 100\n",
      "building tree 40 of 100\n",
      "building tree 41 of 100\n",
      "building tree 42 of 100\n",
      "building tree 43 of 100\n",
      "building tree 44 of 100\n",
      "building tree 45 of 100\n",
      "building tree 46 of 100\n",
      "building tree 47 of 100\n",
      "building tree 48 of 100\n",
      "building tree 49 of 100\n",
      "building tree 50 of 100\n",
      "building tree 51 of 100\n",
      "building tree 52 of 100\n",
      "building tree 53 of 100\n",
      "building tree 54 of 100\n",
      "building tree 55 of 100\n",
      "building tree 56 of 100\n",
      "building tree 57 of 100\n",
      "building tree 58 of 100\n",
      "building tree 59 of 100\n",
      "building tree 60 of 100\n",
      "building tree 61 of 100\n",
      "building tree 62 of 100\n",
      "building tree 63 of 100\n",
      "building tree 64 of 100\n",
      "building tree 65 of 100\n",
      "building tree 66 of 100\n",
      "building tree 67 of 100\n",
      "building tree 68 of 100\n",
      "building tree 69 of 100\n",
      "building tree 70 of 100\n",
      "building tree 71 of 100\n",
      "building tree 72 of 100\n",
      "building tree 73 of 100\n",
      "building tree 74 of 100\n",
      "building tree 75 of 100\n",
      "building tree 76 of 100\n",
      "building tree 77 of 100\n",
      "building tree 78 of 100\n",
      "building tree 79 of 100\n",
      "building tree 80 of 100\n",
      "building tree 81 of 100\n",
      "building tree 82 of 100\n",
      "building tree 83 of 100\n",
      "building tree 84 of 100\n",
      "building tree 85 of 100\n",
      "building tree 86 of 100\n",
      "building tree 87 of 100\n",
      "building tree 88 of 100\n",
      "building tree 89 of 100\n",
      "building tree 90 of 100\n",
      "building tree 91 of 100\n",
      "building tree 92 of 100\n",
      "building tree 93 of 100\n",
      "building tree 94 of 100\n",
      "building tree 95 of 100\n",
      "building tree 96 of 100\n",
      "building tree 97 of 100\n",
      "building tree 98 of 100\n",
      "building tree 99 of 100\n",
      "building tree 100 of 100\n"
     ]
    },
    {
     "name": "stderr",
     "output_type": "stream",
     "text": [
      "[Parallel(n_jobs=-1)]: Done 100 out of 100 | elapsed: 11.3min finished\n"
     ]
    },
    {
     "data": {
      "text/plain": [
       "RandomForestClassifier(bootstrap=True, class_weight=None, criterion='gini',\n",
       "            max_depth=None, max_features='auto', max_leaf_nodes=None,\n",
       "            min_impurity_decrease=0.0, min_impurity_split=None,\n",
       "            min_samples_leaf=1, min_samples_split=2,\n",
       "            min_weight_fraction_leaf=0.0, n_estimators=100, n_jobs=-1,\n",
       "            oob_score=False, random_state=None, verbose=3,\n",
       "            warm_start=False)"
      ]
     },
     "execution_count": 17,
     "metadata": {},
     "output_type": "execute_result"
    }
   ],
   "source": [
    "model_rf = RandomForestClassifier(verbose=3,n_estimators=100,n_jobs=-1)\n",
    "model_rf.fit(xtrain,ytrain)"
   ]
  },
  {
   "cell_type": "code",
   "execution_count": 18,
   "metadata": {},
   "outputs": [
    {
     "name": "stderr",
     "output_type": "stream",
     "text": [
      "[Parallel(n_jobs=4)]: Done  24 tasks      | elapsed:  1.9min\n",
      "[Parallel(n_jobs=4)]: Done 100 out of 100 | elapsed: 14.2min finished\n"
     ]
    },
    {
     "name": "stdout",
     "output_type": "stream",
     "text": [
      "0.9999885024976634\n"
     ]
    },
    {
     "name": "stderr",
     "output_type": "stream",
     "text": [
      "[Parallel(n_jobs=4)]: Done  24 tasks      | elapsed:  1.9min\n",
      "[Parallel(n_jobs=4)]: Done 100 out of 100 | elapsed:  2.5min finished\n"
     ]
    },
    {
     "name": "stdout",
     "output_type": "stream",
     "text": [
      "0.8160037002775208\n"
     ]
    }
   ],
   "source": [
    "print(accuracy_score(ytrain, model_rf.predict(xtrain)))\n",
    "print(accuracy_score(ytest, model_rf.predict(xtest)))"
   ]
  },
  {
   "cell_type": "code",
   "execution_count": 19,
   "metadata": {},
   "outputs": [
    {
     "name": "stderr",
     "output_type": "stream",
     "text": [
      "[Parallel(n_jobs=4)]: Done  24 tasks      | elapsed:    1.7s\n",
      "[Parallel(n_jobs=4)]: Done 100 out of 100 | elapsed:    7.5s finished\n"
     ]
    },
    {
     "data": {
      "text/plain": [
       "array([[654920,   7782],\n",
       "       [141393,   6655]], dtype=int64)"
      ]
     },
     "execution_count": 19,
     "metadata": {},
     "output_type": "execute_result"
    }
   ],
   "source": [
    "confusion_matrix(ytest,model_rf.predict(xtest))"
   ]
  },
  {
   "cell_type": "code",
   "execution_count": 32,
   "metadata": {},
   "outputs": [],
   "source": [
    "dn = Sequential()\n",
    "dn.add(Dense(32, input_dim=27))\n",
    "dn.add(Activation('relu'))\n",
    "dn.add(Dropout(0.2))\n",
    "dn.add(Dense(640))\n",
    "dn.add(Activation('relu'))\n",
    "dn.add(Dense(1))\n",
    "dn.add(Activation('sigmoid'))\n",
    "\n",
    "dn.compile(optimizer='adam',loss='binary_crossentropy',metrics=['accuracy'])"
   ]
  },
  {
   "cell_type": "code",
   "execution_count": 34,
   "metadata": {},
   "outputs": [
    {
     "name": "stdout",
     "output_type": "stream",
     "text": [
      "Epoch 1/10\n",
      "2957164/2957164 [==============================] - 124s 42us/step - loss: 9.9671 - acc: 0.6908\n",
      "Epoch 2/10\n",
      "2957164/2957164 [==============================] - 127s 43us/step - loss: 9.9671 - acc: 0.6908\n",
      "Epoch 3/10\n",
      "2957164/2957164 [==============================] - 124s 42us/step - loss: 9.9671 - acc: 0.6908\n",
      "Epoch 4/10\n",
      "2957164/2957164 [==============================] - 123s 42us/step - loss: 9.9671 - acc: 0.6908\n",
      "Epoch 5/10\n",
      "2957164/2957164 [==============================] - 119s 40us/step - loss: 9.9671 - acc: 0.6908\n",
      "Epoch 6/10\n",
      "2957164/2957164 [==============================] - 120s 40us/step - loss: 9.9671 - acc: 0.6908\n",
      "Epoch 7/10\n",
      "2957164/2957164 [==============================] - 119s 40us/step - loss: 9.9671 - acc: 0.6908\n",
      "Epoch 8/10\n",
      "2957164/2957164 [==============================] - 119s 40us/step - loss: 9.9671 - acc: 0.6908\n",
      "Epoch 9/10\n",
      "2957164/2957164 [==============================] - 120s 41us/step - loss: 9.9671 - acc: 0.6908\n",
      "Epoch 10/10\n",
      "2957164/2957164 [==============================] - 120s 40us/step - loss: 9.9671 - acc: 0.6908\n"
     ]
    },
    {
     "data": {
      "text/plain": [
       "<keras.callbacks.History at 0x225303ee160>"
      ]
     },
     "execution_count": 34,
     "metadata": {},
     "output_type": "execute_result"
    }
   ],
   "source": [
    "dn.fit(xtrain,ytrain,epochs=10,batch_size=32,class_weight={0:1,1:2})"
   ]
  },
  {
   "cell_type": "code",
   "execution_count": 35,
   "metadata": {},
   "outputs": [
    {
     "name": "stdout",
     "output_type": "stream",
     "text": [
      "Epoch 1/10\n",
      "2957164/2957164 [==============================] - 117s 39us/step - loss: 9.9671 - acc: 0.6908\n",
      "Epoch 2/10\n",
      "2957164/2957164 [==============================] - 117s 39us/step - loss: 9.9671 - acc: 0.6908\n",
      "Epoch 3/10\n",
      "2957164/2957164 [==============================] - 116s 39us/step - loss: 9.9671 - acc: 0.6908\n",
      "Epoch 4/10\n",
      "2957164/2957164 [==============================] - 115s 39us/step - loss: 9.9671 - acc: 0.6908\n",
      "Epoch 5/10\n",
      "2957164/2957164 [==============================] - 116s 39us/step - loss: 9.9671 - acc: 0.6908\n",
      "Epoch 6/10\n",
      "2957164/2957164 [==============================] - 116s 39us/step - loss: 9.9671 - acc: 0.6908\n",
      "Epoch 7/10\n",
      "2957164/2957164 [==============================] - 117s 40us/step - loss: 9.9671 - acc: 0.6908\n",
      "Epoch 8/10\n",
      "2957164/2957164 [==============================] - 116s 39us/step - loss: 9.9671 - acc: 0.6908\n",
      "Epoch 9/10\n",
      "2957164/2957164 [==============================] - 116s 39us/step - loss: 9.9671 - acc: 0.6908\n",
      "Epoch 10/10\n",
      "2957164/2957164 [==============================] - 116s 39us/step - loss: 9.9671 - acc: 0.6908\n"
     ]
    },
    {
     "data": {
      "text/plain": [
       "<keras.callbacks.History at 0x2252fdb4c18>"
      ]
     },
     "execution_count": 35,
     "metadata": {},
     "output_type": "execute_result"
    }
   ],
   "source": [
    "dn.fit(xtrain,ytrain,epochs=10,batch_size=32,class_weight={0:1,1:2})"
   ]
  },
  {
   "cell_type": "code",
   "execution_count": 12,
   "metadata": {},
   "outputs": [
    {
     "data": {
      "text/plain": [
       "Index(['Unnamed: 0', 'Unnamed: 0.1', 'MONTH', 'DAY', 'DAY_OF_WEEK', 'AIRLINE',\n",
       "       'ORIGIN_AIRPORT', 'DESTINATION_AIRPORT', 'SCHEDULED_DEPARTURE',\n",
       "       'SCHEDULED_ARRIVAL', 'is_holiday', 'o_Temperature', 'o_Visibility (km)',\n",
       "       'o_Wind (km/h)', 'o_Precip. (mm)', 'o_Fog', 'o_Hail', 'o_Snow',\n",
       "       'o_Thunderstorm', 'o_Tornado', 'd_Temperature', 'd_Visibility (km)',\n",
       "       'd_Wind (km/h)', 'd_Precip. (mm)', 'd_Fog', 'd_Hail', 'd_Snow',\n",
       "       'd_Thunderstorm', 'd_Tornado'],\n",
       "      dtype='object')"
      ]
     },
     "execution_count": 12,
     "metadata": {},
     "output_type": "execute_result"
    }
   ],
   "source": [
    "xtrain.columns"
   ]
  },
  {
   "cell_type": "code",
   "execution_count": null,
   "metadata": {},
   "outputs": [],
   "source": []
  }
 ],
 "metadata": {
  "kernelspec": {
   "display_name": "Python 3",
   "language": "python",
   "name": "python3"
  },
  "language_info": {
   "codemirror_mode": {
    "name": "ipython",
    "version": 3
   },
   "file_extension": ".py",
   "mimetype": "text/x-python",
   "name": "python",
   "nbconvert_exporter": "python",
   "pygments_lexer": "ipython3",
   "version": "3.6.4"
  }
 },
 "nbformat": 4,
 "nbformat_minor": 2
}
